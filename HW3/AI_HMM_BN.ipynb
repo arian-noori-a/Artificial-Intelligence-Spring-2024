{
 "cells": [
  {
   "cell_type": "markdown",
   "metadata": {
    "id": "lGYYFKeJ1GMj"
   },
   "source": [
    "<img src='http://www-scf.usc.edu/~ghasemig/images/sharif.png' alt=\"SUT logo\" width=500 height=300 align=center class=\"saturate\" >\n",
    "\n",
    "<br>\n",
    "<font>\n",
    "<div dir=ltr align=center>\n",
    "<font color=0F5298 size=7>\n",
    "    Artificial Intelligence <br>\n",
    "<font color=2565AE size=5>\n",
    "    Computer Engineering Department <br>\n",
    "    Spring 2024<br>\n",
    "<font color=3C99D size=5>\n",
    "    Practical Assignment 3 - Heart Disease Prediction using Hidden Markov Models  <br>\n",
    "<font color=696880 size=4>\n",
    "Omid Daliran\n"
   ]
  },
  {
   "cell_type": "markdown",
   "metadata": {
    "id": "mKqvyyp3TIzP"
   },
   "source": [
    "# Personal Data"
   ]
  },
  {
   "cell_type": "code",
   "execution_count": 203,
   "metadata": {
    "id": "0geUs2cxytvu"
   },
   "outputs": [],
   "source": [
    "# Set your student number and name\n",
    "student_number = \"401106663\"\n",
    "Name = \"Arian\"\n",
    "Last_Name = \"Noori\""
   ]
  },
  {
   "cell_type": "markdown",
   "metadata": {
    "id": "7t1ZoXu-0BHq"
   },
   "source": [
    "# Libraries"
   ]
  },
  {
   "cell_type": "code",
   "execution_count": 204,
   "metadata": {
    "id": "ROZMme5FrlVL"
   },
   "outputs": [],
   "source": [
    "import csv\n",
    "import numpy as np\n",
    "import pandas as pd"
   ]
  },
  {
   "cell_type": "markdown",
   "metadata": {
    "id": "22cAp2xx0asS"
   },
   "source": [
    "# Q2: Heart Disease Prediction using Hidden Markov  (100 Points)"
   ]
  },
  {
   "cell_type": "markdown",
   "metadata": {
    "id": "HCCMQjKH1sWi"
   },
   "source": [
    "# Introduction\n",
    "\n",
    "\n",
    "In this notebook, we explore the application of Hidden Markov Models (HMM) in predicting heart disease risk based on DNA sequences. Heart disease is a prevalent and life-threatening condition, and early detection is crucial for effective management. By leveraging HMM, we aim to identify regions within DNA sequences associated with high and low GC content, which have been linked to heart disease susceptibility.\n"
   ]
  },
  {
   "cell_type": "markdown",
   "metadata": {
    "id": "tsYpNuyH4Cu-"
   },
   "source": [
    "# Hidden Markov Models (HMM) (40 points)\n",
    "\n",
    "Hidden Markov Models are probabilistic models widely used in sequential data analysis, particularly in bioinformatics. They are characterized by states, transitions between states, and emission probabilities associated with each state. In our context, the states represent the underlying biological characteristics of DNA sequences, while the emission probabilities signify the likelihood of observing specific nucleotides given each state.\n",
    "\n",
    "To facilitate our heart disease classification, we'll implement a custom Hidden Markov Model (HMM) class in Python. This class will include the Viterbi and Forward algorithms."
   ]
  },
  {
   "cell_type": "code",
   "execution_count": 205,
   "metadata": {
    "id": "UHTspQ58UDSs"
   },
   "outputs": [],
   "source": [
    "class HMM:\n",
    "    def __init__(self, states: list, emissions: list, start_probabilities: list, transition_probabilities: list):\n",
    "        self.states = states\n",
    "        self.state_labels = {i: state for i, state in enumerate(states)}\n",
    "        self.emissions = emissions\n",
    "        self.start_probabilities = start_probabilities\n",
    "        self.transition_probabilities = transition_probabilities\n",
    "\n",
    "    def viterbi(self, sequence: str) -> tuple:\n",
    "        \n",
    "        '''\n",
    "        This method performs the Viterbi algorithm within the Hidden Markov Model (HMM) class to predict the most \n",
    "        likely sequence of hidden states given an observed sequence, such as a DNA sequence.\n",
    "\n",
    "        Parameters:\n",
    "        - sequence: The observed sequence for which the most likely hidden state sequence is to be predicted.\n",
    "\n",
    "        Returns:\n",
    "        - path: The predicted sequence of hidden states corresponding to the input sequence.\n",
    "        - max_probability: The maximum probability associated with the predicted path.\n",
    "        '''\n",
    "        \n",
    "        states = self.states\n",
    "        emissions = self.emissions\n",
    "        start_probabilities = self.start_probabilities\n",
    "        transition_probabilities = self.transition_probabilities\n",
    "        pathes = []\n",
    "        for i in range(len(sequence)):\n",
    "            current_observation = sequence[i]\n",
    "            if(i == 0):\n",
    "                for j in range(len(states)):\n",
    "                    state = states[j]\n",
    "                    prob = start_probabilities[j] * self.get_emission_probability(emissions[j]  , current_observation)\n",
    "                    pathes.append([states[j] , prob])\n",
    "            else:\n",
    "                temp = []\n",
    "                for j in range(len(states)):\n",
    "                    state = states[j]\n",
    "                    most_likely_state = 0\n",
    "                    most_likely_probability = 0\n",
    "                    emission = 0\n",
    "                    for k in range(len(emissions[j])):\n",
    "                        if(emissions[j][k][0] == current_observation):\n",
    "                            emission = emissions[j][k][1]\n",
    "                    for k in range(len(states)):\n",
    "                        last_probability = pathes[k][1]\n",
    "                        transition = transition_probabilities[k][j]\n",
    "                        probability = last_probability * transition\n",
    "                        if(probability > most_likely_probability):\n",
    "                            most_likely_probability = probability\n",
    "                            most_likely_state = k\n",
    "                    temp.append([pathes[most_likely_state][0] + states[j] , most_likely_probability * emission])\n",
    "                pathes = temp\n",
    "        \n",
    "        max_probability = 0\n",
    "        path = \"\"\n",
    "        for i in range(len(pathes)):\n",
    "            if(pathes[i][1] > max_probability):\n",
    "                max_probability = pathes[i][1]\n",
    "                path = pathes[i][0]\n",
    "\n",
    "        return path , max_probability\n",
    "    \n",
    "    def get_emission_probability(self , emissions , observation):\n",
    "        for i in range(len(emissions)):\n",
    "            if(emissions[i][0] == observation):\n",
    "                return emissions[i][1]\n",
    "    \n",
    "    \n",
    "    def forward_algorithm(self, sequence: str) -> list:\n",
    "        '''\n",
    "        This method performs the Forward algorithm within the Hidden Markov Model (HMM) class to calculate \n",
    "        the probability of observing a given sequence under the model.\n",
    "\n",
    "        Parameters:\n",
    "        - sequence: The observed sequence for which the likelihood is to be calculated.\n",
    "\n",
    "        Returns:\n",
    "        - probability_last_states: The probabilities of the final states after observing the entire sequence.\n",
    "        '''\n",
    "        states = self.states\n",
    "        emissions = self.emissions\n",
    "        start_probabilities = self.start_probabilities\n",
    "        transition_probabilities = self.transition_probabilities\n",
    "        probabilities = []\n",
    "        temp = []\n",
    "        for i in range(len(sequence)):\n",
    "            current_observation = sequence[i]\n",
    "            if(i == 0):\n",
    "                probabilities = self.get_start_probabilities(start_probabilities , emissions , states , current_observation)\n",
    "                probabilities = self.normalized(probabilities)\n",
    "            else:\n",
    "                new_probabilities = []\n",
    "                for j in range(len(states)):\n",
    "                    emission = 0\n",
    "                    transition = 0\n",
    "                    for k in range(len(emissions[j])):\n",
    "                        if(emissions[j][k][0] == current_observation):\n",
    "                            emission = emissions[j][k][1]\n",
    "                    sum = 0\n",
    "                    for k in range(len(states)):\n",
    "                        transition = transition_probabilities[k][j] * probabilities[k]\n",
    "                        sum += transition\n",
    "                    sum *= emission\n",
    "                    new_probabilities.append(sum)\n",
    "                probabilities = self.normalized(new_probabilities)\n",
    "                \n",
    "                             \n",
    "        probability_last_states = probabilities\n",
    "        \n",
    "    \n",
    "        return probability_last_states\n",
    "    \n",
    "    def get_start_probabilities(self , start_probabilities , emissions , states , observation):\n",
    "        probability = []\n",
    "        for i in range(len(states)):\n",
    "            prob = start_probabilities[i]\n",
    "            for j in range(len(emissions[i])):\n",
    "\n",
    "                if(emissions[i][j][0] == observation):\n",
    "                    prob *= emissions[i][j][1]\n",
    "            probability.append(prob)\n",
    "        return probability\n",
    "    \n",
    "    def normalized(self , vector):\n",
    "        sum = 0\n",
    "        new_vector = []\n",
    "        for i in range(len(vector)):\n",
    "            sum += vector[i]\n",
    "            \n",
    "        for i in range(len(vector)):\n",
    "            new_vector.append(vector[i] / sum)\n",
    "        return new_vector\n"
   ]
  },
  {
   "cell_type": "markdown",
   "metadata": {
    "id": "9isx2p9kFT4o"
   },
   "source": [
    "GC content, the proportion of guanine (G) and cytosine (C) nucleotides in a DNA sequence, is a fundamental genomic feature. Variations in GC content have been implicated in various biological processes, including gene regulation and disease susceptibility. Specifically, high GC content (H) regions are associated with increased gene expression and potential regulatory elements, while low GC content (L) regions may indicate structural elements or regions prone to mutations. The transition and emission and start probabilities are as shown in the image below:\n",
    "\n",
    "![Probabilities](Probabilities.png)"
   ]
  },
  {
   "cell_type": "code",
   "execution_count": 206,
   "metadata": {
    "colab": {
     "base_uri": "https://localhost:8080/"
    },
    "executionInfo": {
     "elapsed": 375,
     "status": "ok",
     "timestamp": 1710794899166,
     "user": {
      "displayName": "Omid Daliran",
      "userId": "14293939971066168269"
     },
     "user_tz": -210
    },
    "id": "9CcWsAvQXjJ_",
    "outputId": "bd0099ba-4013-4a4b-a0d6-f2ce42b136f7"
   },
   "outputs": [
    {
     "name": "stdout",
     "output_type": "stream",
     "text": [
      "Viterbi Path: LLHHHHHLLHHLLHHLLLHHHHL\n",
      "Max Probability (Viterbi): 1.1438396227480495e-19\n",
      "Probability (Forward Algorithm): [0.35818008853498684, 0.6418199114650132]\n"
     ]
    }
   ],
   "source": [
    "# TODO: Complete and run this code to check your implementation\n",
    "\n",
    "states = ['H', 'L']\n",
    "emissions = [ [['A' , 0.2] , ['C' , 0.3] , ['G' , 0.3] , ['T' , 0.2]] \n",
    "            , [['A' , 0.3] , ['C' , 0.2] , ['G' , 0.2] , ['T' , 0.3]] ]\n",
    "start_probabilities = [0.5 , 0.5]\n",
    "transition_probabilities = [[0.5 , 0.5] , [0.4 , 0.6]]\n",
    "\n",
    "hmm = HMM(states, emissions, start_probabilities, transition_probabilities)\n",
    "\n",
    "# Example DNA sequence\n",
    "sequence = \"ATGCGCGATCGATCGAATCGCGT\"\n",
    "#ATGCGCGATCGATCGAATCGCGT\n",
    "\n",
    "# Viterbi algorithm\n",
    "path, max_probability = hmm.viterbi(sequence)\n",
    "print(\"Viterbi Path:\", path)\n",
    "print(\"Max Probability (Viterbi):\", max_probability)\n",
    "\n",
    "# Forward algorithm\n",
    "probability = hmm.forward_algorithm(sequence)\n",
    "print(\"Probability (Forward Algorithm):\", probability)"
   ]
  },
  {
   "cell_type": "markdown",
   "metadata": {
    "id": "RE8zgAe07NnC"
   },
   "source": [
    "# Calculating Probabilities for Blood Type, Height, and Weight (10 points)\n",
    "\n",
    "After obtaining the sequence of H and L regions from the DNA using the Viterbi algorithm, we proceed to calculate the probabilities for other attributes such as blood type, height, weight, and the presence or absence of DCM (DCM, or Dilated Cardiomyopathy, is a heart condition characterized by the enlargement of the heart's left ventricle. It can lead to heart failure if not properly managed.) using the Forward algorithm. In this step, we aim to leverage the Hidden Markov Model (HMM) to infer these attributes based on the observed GC content sequence.\n",
    "\n",
    "\n",
    "We will use the functionality of the Forward algorithm to compute the probabilities associated with each possible state after observing the sequence.\n",
    "\n",
    "Attributes and Possible States:\n",
    "* Blood Type: O, A, B, AB\n",
    "* Height: 160 cm, 170 cm, 180 cm, 190 cm\n",
    "* Weight: 50 kg, 65 kg, 80 kg, 95 kg\n",
    "* DCM: Y (indicating presence) or N (indicating absence)\n"
   ]
  },
  {
   "cell_type": "code",
   "execution_count": 207,
   "metadata": {
    "id": "MKDBSoumfmb6"
   },
   "outputs": [],
   "source": [
    "def probabilities_from_sequence(sequence: str) -> tuple:\n",
    "    '''\n",
    "    This function, `probabilities_from_sequence(sequence)`, computes the probabilities associated with attributes such as \n",
    "    blood type, height, weight, and the presence or absence of Dilated Cardiomyopathy (DCM) based on an input DNA sequence.\n",
    "\n",
    "    ### Input:\n",
    "    - `sequence`: The observed DNA sequence for which probabilities are to be computed.\n",
    "\n",
    "    ### Output:\n",
    "    The function returns dictionaries containing the probabilities for each possible state of the respective attributes:\n",
    "    - `height_probability_dic`: Probabilities for height categories (160 cm, 170 cm, 180 cm, 190 cm).\n",
    "    - `weight_probability_dic`: Probabilities for weight categories (50 kg, 65 kg, 80 kg, 95 kg).\n",
    "    - `blood_type_probability_dic`: Probabilities for blood types (O, A, B, AB).\n",
    "    - `DCM_probability_dic`: Probabilities for the presence (Y) or absence (N) of Dilated Cardiomyopathy (DCM).\n",
    "    '''\n",
    "    # Define the emission probabilities for each feature\n",
    "\n",
    "    height_emissions = [ [['H' , 0.2] , ['L' , 0.8]] , [['H' , 0.3] , ['L' , 0.7]] ,\n",
    "                         [['H' , 0.9] , ['L' , 0.1]] , [['H' , 0.8] , ['L' , 0.2]] ]\n",
    "\n",
    "    weight_emissions = [ [['H' , 0.3] , ['L' , 0.7]] , [['H' , 0.1] , ['L' , 0.9]] ,\n",
    "                         [['H' , 0.2] , ['L' , 0.8]] , [['H' , 0.7] , ['L' , 0.3]] ]\n",
    "\n",
    "    blood_emissions = [ [['H' , 0.75] , ['L' , 0.25]] , [['H' , 0.8] , ['L' , 0.2]] ,\n",
    "                        [['H' , 0.85] , ['L' , 0.15]] , [['H' , 0.7] , ['L' , 0.3]] ]\n",
    "\n",
    "    DCM_emissions = [[['H' , 0.7] , ['L' , 0.3]] , [['H' , 0.6] , ['L' , 0.4]]]\n",
    "\n",
    "    # Define the transition probabilities for each feature\n",
    "    height_transition_probabilities = [[0.7, 0.2, 0.05, 0.05], [0.1, 0.8, 0.05, 0.05], [0.1, 0.1, 0.7, 0.1], [0.1, 0.1, 0.1, 0.7]]\n",
    "    weight_transition_probabilities = [[0.7, 0.2, 0.05, 0.05], [0.1, 0.8, 0.05, 0.05], [0.1, 0.1, 0.7, 0.1], [0.1, 0.1, 0.1, 0.7]]\n",
    "    blood_transition_probabilities = [[0.7, 0.2, 0.05, 0.05], [0.1, 0.8, 0.05, 0.05], [0.1, 0.1, 0.7, 0.1], [0.1, 0.1, 0.1, 0.7]]\n",
    "    DCM_transition_probabilities = [[0.9, 0.1], [0.1, 0.9]]\n",
    "\n",
    "    height_probability_dic, weight_probability_dic, blood_type_probability_dic, DCM_probability_dic = {}, {}, {}, {}\n",
    "    # Define start probabilities for each state\n",
    "    height_start_probabilities = [0.1, 0.4, 0.4, 0.1]\n",
    "    weight_start_probabilities = [0.15, 0.35, 0.35, 0.15]\n",
    "    blood_start_probabilities = [0.1, 0.35, 0.35, 0.2]\n",
    "    DCM_start_probabilities = [0.25, 0.75]\n",
    "\n",
    "    states = ['160' , '170' , '180' , '190']\n",
    "    Height_Markov_Model = HMM(states , height_emissions , height_start_probabilities , height_transition_probabilities)\n",
    "    states = ['50' , '65' , '80' , '95']\n",
    "    Weight_Markov_Model = HMM(states , weight_emissions , weight_start_probabilities , weight_transition_probabilities)\n",
    "    states = ['O' , 'A' , 'B' , 'AB']\n",
    "    Blood_Markov_Model = HMM(states , blood_emissions , blood_start_probabilities , blood_transition_probabilities)\n",
    "    states = ['Y' , 'N']\n",
    "    DCM_Markov_Model = HMM(states , DCM_emissions , DCM_start_probabilities , DCM_transition_probabilities)\n",
    "\n",
    "    list1 = Height_Markov_Model.forward_algorithm(sequence)\n",
    "    index = 0\n",
    "    for state in ['160', '170', '180', '190']:\n",
    "        height_probability_dic[int(state)] = list1[index]\n",
    "        index += 1\n",
    "\n",
    "    list2 = Weight_Markov_Model.forward_algorithm(sequence)\n",
    "    index = 0\n",
    "    for state in ['50', '65', '80', '95']:\n",
    "        weight_probability_dic[int(state)] = list2[index]\n",
    "        index += 1\n",
    "\n",
    "    list3 = Blood_Markov_Model.forward_algorithm(sequence)\n",
    "    index = 0\n",
    "    for state in ['O', 'A', 'B', 'AB']:\n",
    "        blood_type_probability_dic[state] = list3[index]\n",
    "        index += 1\n",
    "\n",
    "    list4 = DCM_Markov_Model.forward_algorithm(sequence)\n",
    "    index = 0\n",
    "    for state in ['Y', 'N']:\n",
    "        DCM_probability_dic[state] = list4[index]\n",
    "        index += 1\n",
    "\n",
    "    return height_probability_dic, weight_probability_dic, blood_type_probability_dic, DCM_probability_dic\n"
   ]
  },
  {
   "cell_type": "code",
   "execution_count": 208,
   "metadata": {
    "colab": {
     "base_uri": "https://localhost:8080/"
    },
    "executionInfo": {
     "elapsed": 354,
     "status": "ok",
     "timestamp": 1710794167707,
     "user": {
      "displayName": "Omid Daliran",
      "userId": "14293939971066168269"
     },
     "user_tz": -210
    },
    "id": "vwGQ9QSAhEl5",
    "outputId": "c44000d9-24c5-4968-daae-a493fb9e302f"
   },
   "outputs": [
    {
     "name": "stdout",
     "output_type": "stream",
     "text": [
      "Probability of height given sequence: {160: 0.3660593174871113, 170: 0.5760951509787053, 180: 0.015850353367627773, 190: 0.04199517816655549}\n",
      "Probability of weight given sequence: {50: 0.2845952908892868, 65: 0.4270707539024914, 80: 0.20957356322963908, 95: 0.07876039197858276}\n",
      "Probability of blood type given sequence: {'O': 0.29628284733090365, 'A': 0.3305080573190477, 'B': 0.08789883086305705, 'AB': 0.28531026448699165}\n",
      "Probability of DCM given sequence: {'Y': 0.32977581810083306, 'N': 0.670224181899167}\n"
     ]
    }
   ],
   "source": [
    "# Run this code to check your implementation\n",
    "# Example sequence of 'H' and 'L'\n",
    "sequence = \"HHLLHHHLLHLLLLHHLL\"\n",
    "\n",
    "height_probability, weight_probability, blood_type_probability, DCM_probability = probabilities_from_sequence(sequence)\n",
    "\n",
    "print(\"Probability of height given sequence:\", height_probability)\n",
    "print(\"Probability of weight given sequence:\", weight_probability)\n",
    "print(\"Probability of blood type given sequence:\", blood_type_probability)\n",
    "print(\"Probability of DCM given sequence:\", DCM_probability)"
   ]
  },
  {
   "cell_type": "markdown",
   "metadata": {
    "id": "EglKERkiKrZv"
   },
   "source": [
    "# Bayesian Network for Heart Disease Probability Calculation (30 points)\n",
    "\n",
    "In this section, we introduce a Bayesian network to calculate the probability of heart disease based on various features. We assume that the relationships between features follow a specific structure, depicted in the image below.\n",
    "\n",
    "![Bayesian Net](BN.png)\n",
    "\n",
    "The Bayesian network comprises nodes representing different features, including sex, weight, height, Dilated Cardiomyopathy (DCM), blood type, and heart disease. The directed edges between nodes indicate probabilistic dependencies between them.\n",
    "\n",
    "Function Implementation:\n",
    "We will implement two functions to facilitate the calculation of heart disease probability:\n",
    "\n",
    "1. calculate_sex_probability:\n",
    "\n",
    "  This function calculates the probability of sex based on the given probabilities of weight and height.\n",
    "\n",
    "2. calculate_heart_disease_probability:\n",
    "\n",
    "  This function computes the probability of heart disease based on the probabilities of sex, DCM, and blood type."
   ]
  },
  {
   "cell_type": "code",
   "execution_count": 209,
   "metadata": {
    "id": "wi3Rz_6eOCpD"
   },
   "outputs": [],
   "source": [
    "# The probability of sex given height and weight, the tuple is in this order: (sex, height, weight)\n",
    "P_sex_given_hw = {\n",
    "    ('M', 160, 50): 0.7, ('F', 160, 50): 0.3,\n",
    "    ('M', 160, 65): 0.2, ('F', 160, 65): 0.8,\n",
    "    ('M', 160, 80): 0.3, ('F', 160, 80): 0.7,\n",
    "    ('M', 160, 95): 0.2, ('F', 160, 95): 0.8,\n",
    "    ('M', 170, 50): 0.8, ('F', 170, 50): 0.2,\n",
    "    ('M', 170, 65): 0.75, ('F', 170, 65): 0.25,\n",
    "    ('M', 170, 80): 0.4, ('F', 170, 80): 0.6,\n",
    "    ('M', 170, 95): 0.3, ('F', 170, 95): 0.7,\n",
    "    ('M', 180, 50): 0.9, ('F', 180, 50): 0.1,\n",
    "    ('M', 180, 65): 0.7, ('F', 180, 65): 0.3,\n",
    "    ('M', 180, 80): 0.65, ('F', 180, 80): 0.35,\n",
    "    ('M', 180, 95): 0.4, ('F', 180, 95): 0.6,\n",
    "    ('M', 190, 50): 0.95, ('F', 190, 50): 0.05,\n",
    "    ('M', 190, 65): 0.8, ('F', 190, 65): 0.2,\n",
    "    ('M', 190, 80): 0.6, ('F', 190, 80): 0.4,\n",
    "    ('M', 190, 95): 0.95, ('F', 190, 95): 0.05\n",
    "}"
   ]
  },
  {
   "cell_type": "code",
   "execution_count": 210,
   "metadata": {
    "id": "p_sCg50LOraD"
   },
   "outputs": [],
   "source": [
    "def calculate_sex_probability(height_prob: dict, weight_prob: dict) -> dict:\n",
    "    '''\n",
    "    This function, `calculate_sex_probability(height_prob, weight_prob)`, computes the probability of sex based on the probabilities of height and weight.\n",
    "\n",
    "    Parameters:\n",
    "    - height_prob: Dictionary containing probabilities for height categories.\n",
    "    - weight_prob: Dictionary containing probabilities for weight categories.\n",
    "\n",
    "    Returns:\n",
    "    - Dictionary containing probabilities for male (M) and female (F) sexes.\n",
    "    '''\n",
    "    sex_probability = {'M': 0 , 'F': 0}\n",
    "\n",
    "    for sex in sex_probability:\n",
    "        for height , p_height in height_prob.items():\n",
    "            for weight , p_weight in weight_prob.items():\n",
    "                sex_probability[sex] += p_height * p_weight * P_sex_given_hw[(sex, height, weight)]\n",
    "\n",
    "    return sex_probability"
   ]
  },
  {
   "cell_type": "code",
   "execution_count": 211,
   "metadata": {
    "colab": {
     "base_uri": "https://localhost:8080/"
    },
    "executionInfo": {
     "elapsed": 389,
     "status": "ok",
     "timestamp": 1710794236538,
     "user": {
      "displayName": "Omid Daliran",
      "userId": "14293939971066168269"
     },
     "user_tz": -210
    },
    "id": "zChVjCjzOVoZ",
    "outputId": "81cfd99f-d550-4799-8e05-747b1a967f84"
   },
   "outputs": [
    {
     "name": "stdout",
     "output_type": "stream",
     "text": [
      "Probability of sex: {'M': 0.6355000000000002, 'F': 0.36450000000000005}\n"
     ]
    }
   ],
   "source": [
    "# Run this code to test you implementation\n",
    "# Example probabilities of height\n",
    "P_height = {160: 0.1, 170: 0.3, 180: 0.4, 190: 0.2}\n",
    "# Example probabilities of weight\n",
    "P_weight = {50: 0.2, 65: 0.3, 80: 0.4, 95: 0.1}\n",
    "# Example conditional probabilities of sex given height and weight\n",
    "\n",
    "\n",
    "sex_probabilities = calculate_sex_probability(P_height, P_weight)\n",
    "print(\"Probability of sex:\", sex_probabilities)"
   ]
  },
  {
   "cell_type": "code",
   "execution_count": 212,
   "metadata": {
    "id": "mRooypaNPDr5"
   },
   "outputs": [],
   "source": [
    "# The probability of hear disease given sex, DCM and blood type, the tuple is in this order: (heart disease, sex, blood type, DCM)\n",
    "P_heart_disease_given_parents = {\n",
    "    ('N', 'M', 'O', 'Y'): 0.3, ('Y', 'M', 'O', 'Y'): 0.7,\n",
    "    ('N', 'M', 'A', 'Y'): 0.4, ('Y', 'M', 'A', 'Y'): 0.6,\n",
    "    ('N', 'M', 'B', 'Y'): 0.5, ('Y', 'M', 'B', 'Y'): 0.5,\n",
    "    ('N', 'M', 'AB', 'Y'): 0.6, ('Y', 'M', 'AB', 'Y'): 0.4,\n",
    "    ('N', 'F', 'O', 'Y'): 0.6, ('Y', 'F', 'O', 'Y'): 0.4,\n",
    "    ('N', 'F', 'A', 'Y'): 0.3, ('Y', 'F', 'A', 'Y'): 0.7,\n",
    "    ('N', 'F', 'B', 'Y'): 0.4, ('Y', 'F', 'B', 'Y'): 0.6,\n",
    "    ('N', 'F', 'AB', 'Y'): 0.7, ('Y', 'F', 'AB', 'Y'): 0.3,\n",
    "    ('N', 'M', 'O', 'N'): 0.6, ('Y', 'M', 'O', 'N'): 0.4,\n",
    "    ('N', 'M', 'A', 'N'): 0.15, ('Y', 'M', 'A', 'N'): 0.85,\n",
    "    ('N', 'M', 'B', 'N'): 0.4, ('Y', 'M', 'B', 'N'): 0.6,\n",
    "    ('N', 'M', 'AB', 'N'): 0.7, ('Y', 'M', 'AB', 'N'): 0.3,\n",
    "    ('N', 'F', 'O', 'N'): 0.8, ('Y', 'F', 'O', 'N'): 0.2,\n",
    "    ('N', 'F', 'A', 'N'): 0.7, ('Y', 'F', 'A', 'N'): 0.3,\n",
    "    ('N', 'F', 'B', 'N'): 0.65, ('Y', 'F', 'B', 'N'): 0.35,\n",
    "    ('N', 'F', 'AB', 'N'): 0.35, ('Y', 'F', 'AB', 'N'): 0.65,\n",
    "}"
   ]
  },
  {
   "cell_type": "code",
   "execution_count": 213,
   "metadata": {
    "id": "yIG7zuoyPiiN"
   },
   "outputs": [],
   "source": [
    "def calculate_heart_disease_probability(DCM_prob: dict, sex_prob: dict, blood_type_prob: dict) -> dict:\n",
    "    '''\n",
    "    Function: Calculate Heart Disease Probability\n",
    "\n",
    "    This function, `calculate_heart_disease_probability(DCM_prob, sex_prob, blood_type_prob, heart_disease_given_parents)`, \n",
    "    computes the probability of heart disease based on the probabilities of Dilated Cardiomyopathy (DCM), sex, and blood type.\n",
    "\n",
    "    Parameters:\n",
    "    - DCM_prob: Dictionary containing probabilities for DCM categories.\n",
    "    - sex_prob: Dictionary containing probabilities for sex categories.\n",
    "    - blood_type_prob: Dictionary containing probabilities for blood type categories.\n",
    "\n",
    "    Returns:\n",
    "    - Dictionary containing probabilities for the presence (Y) and absence (N) of heart disease.\n",
    "    '''\n",
    "\n",
    "    heart_disease_probability = {'Y': 0, 'N': 0}\n",
    "\n",
    "    for heart_disease in heart_disease_probability:\n",
    "        for sex , prob_sex in sex_prob.items():\n",
    "            for blood_type, prob_blood_type in blood_type_prob.items():\n",
    "                for dcm, prob_dcm in DCM_prob.items():\n",
    "                    heart_disease_probability[heart_disease] += prob_sex * prob_blood_type * prob_dcm * P_heart_disease_given_parents[(heart_disease, sex, blood_type, dcm)]\n",
    "\n",
    "    return heart_disease_probability\n"
   ]
  },
  {
   "cell_type": "code",
   "execution_count": 214,
   "metadata": {
    "colab": {
     "base_uri": "https://localhost:8080/"
    },
    "executionInfo": {
     "elapsed": 412,
     "status": "ok",
     "timestamp": 1710794311998,
     "user": {
      "displayName": "Omid Daliran",
      "userId": "14293939971066168269"
     },
     "user_tz": -210
    },
    "id": "QA0XWltJPXJL",
    "outputId": "3c03135f-07ed-4fb3-9205-2b3745c878e5"
   },
   "outputs": [
    {
     "name": "stdout",
     "output_type": "stream",
     "text": [
      "Probability of heart disease:  {'Y': 0.41519999999999996, 'N': 0.5848}\n"
     ]
    }
   ],
   "source": [
    "# Run this code to test you implementation\n",
    "# Example probabilities of DCM\n",
    "P_DCM = {'Y': 0.2, 'N': 0.8}\n",
    "# Example probabilities of blood type\n",
    "P_blood_type = {'O': 0.4, 'A': 0.3, 'B': 0.2, 'AB': 0.1}\n",
    "# Example probabilities of sex\n",
    "P_sex = {'M': 0.3, 'F': 0.7}\n",
    "\n",
    "\n",
    "heart_disease_probabilities = calculate_heart_disease_probability(P_DCM, P_sex, P_blood_type)\n",
    "print(\"Probability of heart disease: \",heart_disease_probabilities)"
   ]
  },
  {
   "cell_type": "markdown",
   "metadata": {
    "id": "i-T4axv2P2n3"
   },
   "source": [
    "# Loading DNA Sequences and Heart Disease Probability Calculation (20 points)\n",
    "\n",
    "In this part, we will load the DNA sequences from the file DNA_patients.csv and calculate the probability of heart disease for each patient. Subsequently, we will classify the patients based on their heart disease probability and save the data."
   ]
  },
  {
   "cell_type": "code",
   "execution_count": 215,
   "metadata": {
    "colab": {
     "base_uri": "https://localhost:8080/",
     "height": 206
    },
    "executionInfo": {
     "elapsed": 636,
     "status": "ok",
     "timestamp": 1710793762398,
     "user": {
      "displayName": "Omid Daliran",
      "userId": "14293939971066168269"
     },
     "user_tz": -210
    },
    "id": "AdJEmpbNSuV9",
    "outputId": "64eb2ab6-283a-45f1-aecd-71eaa83724ac"
   },
   "outputs": [
    {
     "data": {
      "text/html": [
       "<div>\n",
       "<style scoped>\n",
       "    .dataframe tbody tr th:only-of-type {\n",
       "        vertical-align: middle;\n",
       "    }\n",
       "\n",
       "    .dataframe tbody tr th {\n",
       "        vertical-align: top;\n",
       "    }\n",
       "\n",
       "    .dataframe thead th {\n",
       "        text-align: right;\n",
       "    }\n",
       "</style>\n",
       "<table border=\"1\" class=\"dataframe\">\n",
       "  <thead>\n",
       "    <tr style=\"text-align: right;\">\n",
       "      <th></th>\n",
       "      <th>ID</th>\n",
       "      <th>DNA</th>\n",
       "    </tr>\n",
       "  </thead>\n",
       "  <tbody>\n",
       "    <tr>\n",
       "      <th>0</th>\n",
       "      <td>1</td>\n",
       "      <td>CTCCAATACCCCCCACAAGAACACACCCATAAAATTGCAACCCACA...</td>\n",
       "    </tr>\n",
       "    <tr>\n",
       "      <th>1</th>\n",
       "      <td>2</td>\n",
       "      <td>TTGATGTAGAAGTATATTTGTTGGGTATTTGAGGTAACGTTATTAG...</td>\n",
       "    </tr>\n",
       "    <tr>\n",
       "      <th>2</th>\n",
       "      <td>3</td>\n",
       "      <td>ATATAATTTAAAGTCACTGGAAAAAAACAACCTAATAAAAACCACC...</td>\n",
       "    </tr>\n",
       "    <tr>\n",
       "      <th>3</th>\n",
       "      <td>4</td>\n",
       "      <td>TAAAGACAAAATTAAATTGAAGTAATGTTATGTTAAAATTTTGAAT...</td>\n",
       "    </tr>\n",
       "    <tr>\n",
       "      <th>4</th>\n",
       "      <td>5</td>\n",
       "      <td>AGCGTTTGTTCGTTAGCCGTAGGCAATGACGTGATTCAGGTCTGTG...</td>\n",
       "    </tr>\n",
       "  </tbody>\n",
       "</table>\n",
       "</div>"
      ],
      "text/plain": [
       "   ID                                                DNA\n",
       "0   1  CTCCAATACCCCCCACAAGAACACACCCATAAAATTGCAACCCACA...\n",
       "1   2  TTGATGTAGAAGTATATTTGTTGGGTATTTGAGGTAACGTTATTAG...\n",
       "2   3  ATATAATTTAAAGTCACTGGAAAAAAACAACCTAATAAAAACCACC...\n",
       "3   4  TAAAGACAAAATTAAATTGAAGTAATGTTATGTTAAAATTTTGAAT...\n",
       "4   5  AGCGTTTGTTCGTTAGCCGTAGGCAATGACGTGATTCAGGTCTGTG..."
      ]
     },
     "execution_count": 215,
     "metadata": {},
     "output_type": "execute_result"
    }
   ],
   "source": [
    "# Read the CSV file into a DataFrame\n",
    "df = pd.read_csv('DNA_patients.csv')\n",
    "\n",
    "df.head()"
   ]
  },
  {
   "cell_type": "code",
   "execution_count": 217,
   "metadata": {
    "id": "0983HNjhlDa1"
   },
   "outputs": [],
   "source": [
    "# TODO: complete the code\n",
    "# Extract DNA sequences and store them in a list\n",
    "DNAs = df['DNA']\n",
    "\n",
    "states = ['H', 'L']\n",
    "emissions = [ [['A' , 0.2] , ['C' , 0.3] , ['G' , 0.3] , ['T' , 0.2]] \n",
    "            , [['A' , 0.3] , ['C' , 0.2] , ['G' , 0.2] , ['T' , 0.3]] ]\n",
    "start_probabilities = [0.5 , 0.5]\n",
    "transition_probabilities = [[0.5 , 0.5] , [0.4 , 0.6]]\n",
    "\n",
    "hmm = HMM(states, emissions, start_probabilities, transition_probabilities)\n",
    "\n",
    "GC_content_seqs = []\n",
    "\n",
    "for seq in DNAs:\n",
    "    path, max_probability = hmm.viterbi(seq)\n",
    "    GC_content_seqs.append(path)"
   ]
  },
  {
   "cell_type": "code",
   "execution_count": 218,
   "metadata": {
    "id": "-65oY4N5lqHk"
   },
   "outputs": [],
   "source": [
    "# TODO: complete the code, classify the Patients as 1 if the probability of heart disease is more that 0.5 and 0 otherwise\n",
    "heart_disease_classified = []\n",
    "\n",
    "for seq in GC_content_seqs:\n",
    "    height_prob , weight_prob , blood_type_prob , DCM_prob = probabilities_from_sequence(seq)\n",
    "    sex_prob = calculate_sex_probability(height_prob , weight_prob)\n",
    "    heart_disease_prob = calculate_heart_disease_probability(DCM_prob , sex_prob , blood_type_prob)\n",
    "    \n",
    "    heart_disease_classified.append(1 if heart_disease_prob['Y'] > 0.5 else 0)\n"
   ]
  },
  {
   "cell_type": "code",
   "execution_count": 219,
   "metadata": {
    "id": "GU9WNiH7W6y-"
   },
   "outputs": [],
   "source": [
    "# Write the result to CSV\n",
    "labels = [(i+1, heart_disease_classified[i]) for i in range(len(heart_disease_classified))]\n",
    "csv_filename = \"heart_disease_result.csv\"\n",
    "with open(csv_filename, mode='w', newline='') as file:\n",
    "    writer = csv.writer(file)\n",
    "    writer.writerow(['ID', 'Label'])\n",
    "    for id, label in labels:\n",
    "        writer.writerow([id, label])"
   ]
  },
  {
   "cell_type": "markdown",
   "metadata": {
    "id": "w1nu_AHq1E4g"
   },
   "source": [
    "**Note: You should upload heart_disease_result.csv along side your notebook.**"
   ]
  }
 ],
 "metadata": {
  "colab": {
   "authorship_tag": "ABX9TyPRfMk8suKBOCWfeOJUd3WF",
   "provenance": []
  },
  "kernelspec": {
   "display_name": "Python 3 (ipykernel)",
   "language": "python",
   "name": "python3"
  },
  "language_info": {
   "codemirror_mode": {
    "name": "ipython",
    "version": 3
   },
   "file_extension": ".py",
   "mimetype": "text/x-python",
   "name": "python",
   "nbconvert_exporter": "python",
   "pygments_lexer": "ipython3",
   "version": "3.11.5"
  }
 },
 "nbformat": 4,
 "nbformat_minor": 1
}
